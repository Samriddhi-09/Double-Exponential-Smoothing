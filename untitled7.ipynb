{
  "nbformat": 4,
  "nbformat_minor": 0,
  "metadata": {
    "colab": {
      "provenance": [],
      "authorship_tag": "ABX9TyMlrKOQMbtEBTytWiDO1oWr",
      "include_colab_link": true
    },
    "kernelspec": {
      "name": "python3",
      "display_name": "Python 3"
    },
    "language_info": {
      "name": "python"
    }
  },
  "cells": [
    {
      "cell_type": "markdown",
      "metadata": {
        "id": "view-in-github",
        "colab_type": "text"
      },
      "source": [
        "<a href=\"https://colab.research.google.com/github/Samriddhi-09/Double-Exponential-Smoothing/blob/main/untitled7.ipynb\" target=\"_parent\"><img src=\"https://colab.research.google.com/assets/colab-badge.svg\" alt=\"Open In Colab\"/></a>"
      ]
    },
    {
      "cell_type": "code",
      "execution_count": null,
      "metadata": {
        "id": "RG6R2Tl4a-xM"
      },
      "outputs": [],
      "source": [
        "library(readxl)\n",
        "library(tseries)\n",
        "library(tidyverse)\n",
        "library(fpp2)\n",
        "library(forecast)\n",
        "data = read_excel(\"C:\\\\Users\\\\samri\\\\OneDrive\\\\Documents\\\\winters1.xlsx\")\n",
        "data\n",
        "Co2 = ts(data$co2,start=1990)\n",
        "ct=window(Co2,end=2004)\n",
        "cf=window(Co2,start=2005)\n",
        "dexp=holt(ct,h=15)\n",
        "plot(dexp,main=\"double exponential\",ylab=\"Co2\",xlab=\"Year\")\n",
        "lines(cf,lty=1)\n",
        "summary(dexp)\n",
        "\n",
        "Energy = ts(data$energy,start=1990)\n",
        "et=window(Energy,end=2004)\n",
        "ef=window(Energy,start=2005)\n",
        "kexp=holt(et,h=15)\n",
        "plot(kexp,main=\"double exponential\",ylab=\"energy\",xlab=\"Year\")\n",
        "lines(ef,lty=1)\n",
        "summary(kexp)\n",
        "\n",
        "Gdp= ts(data$GDP,start=1990)\n",
        "gt=window(Gdp,end=2004)\n",
        "gf=window(Gdp,start=2005)\n",
        "gexp=holt(gt,h=15)\n",
        "plot(gexp,main=\"double exponential\",ylab=\"GDP\",xlab=\"Year\")\n",
        "lines(gf,lty=1)\n",
        "summary(gexp)\n",
        "\n"
      ]
    }
  ]
}